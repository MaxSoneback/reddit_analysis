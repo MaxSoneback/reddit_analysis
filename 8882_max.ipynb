{
 "cells": [
  {
   "cell_type": "code",
   "execution_count": 23,
   "metadata": {},
   "outputs": [],
   "source": [
    "from pyspark.sql import SparkSession\n",
    "from pyspark.sql.types import ArrayType, StringType\n",
    "import pyspark.sql.functions as F \n",
    "import pandas as pd\n",
    "import seaborn as sns\n",
    "import time\n",
    "from typing import List\n",
    "import re\n",
    "import matplotlib.pyplot as plt"
   ]
  },
  {
   "cell_type": "code",
   "execution_count": 2,
   "metadata": {},
   "outputs": [],
   "source": [
    "def build_session(cores: int, max_cores: int):\n",
    "    ss = SparkSession.builder\\\n",
    "    .master(\"spark://192.168.2.166:7077\")\\\n",
    "    .config(\"spark.executor.cores\",cores)\\\n",
    "    .config(\"spark.cores.max\", max_cores)\\\n",
    "    .config(\"spark.executor.memory\", \"1300m\")\\\n",
    "    .appName(\"8882_max\")\\\n",
    "    .getOrCreate()\n",
    "    return ss"
   ]
  },
  {
   "cell_type": "code",
   "execution_count": 3,
   "metadata": {},
   "outputs": [],
   "source": [
    "profanity_dict={\n",
    "    \"sexual_orientation\" : [\n",
    "        \"fag\",\n",
    "        \"faggot\",\n",
    "        \"dyke\",\n",
    "        \"cocksucker\"\n",
    "    ],\n",
    "    \"disability\" : [\n",
    "        \"retard\",\n",
    "        \"retarded\",\n",
    "        \"idiot\",\n",
    "        \"moron\",\n",
    "        \"dumbass\",\n",
    "        \"stupid\",\n",
    "        \"dumbfuck\"\n",
    "    ],\n",
    "    \"gender\" : [\n",
    "        \"cunt\",\n",
    "        \"twat\",\n",
    "        \"bitch\",\n",
    "        \"pussy\",\n",
    "        \"dick\",\n",
    "        \"cock\",\n",
    "        \"whore\",\n",
    "        \"moid\",\n",
    "        \"femoid\"\n",
    "    ],\n",
    "    \"ethnicity\" : [\n",
    "        \"nigger\",\n",
    "        \"nigga\",\n",
    "        \"wigger\",\n",
    "        \"whigger\",\n",
    "        \"sandnigger\",\n",
    "        \"chink\",\n",
    "        \"spic\"\n",
    "    ]}"
   ]
  },
  {
   "cell_type": "code",
   "execution_count": 4,
   "metadata": {},
   "outputs": [],
   "source": [
    "reverse_profanity_dict = {word:category for (category, words) in profanity_dict.items() for word in words}"
   ]
  },
  {
   "cell_type": "code",
   "execution_count": 5,
   "metadata": {},
   "outputs": [],
   "source": [
    "alt_subreddits = [\n",
    "    \"The_Donald\",\n",
    "    \"politics\",\n",
    "    \"news\",\n",
    "    \"conspiracy\",\n",
    "    \"Uncensored\",\n",
    "    \"Health\",\n",
    "    \"PoliticsAll\",\n",
    "    \"Conservative\",\n",
    "    \"worldnews\",\n",
    "    \"WhiteRights\",\n",
    "    \"KotakuInAction\",\n",
    "    \"HillaryForPrison\",\n",
    "    \"TheOnion\",\n",
    "    \"AskTrumpSupporters\",\n",
    "    \"POLITIC\",\n",
    "    \"rss_theonion\",\n",
    "    \"the_Europe\",\n",
    "    \"new_right\",\n",
    "    \"AskReddit\",\n",
    "    \"AnythingGoesNews\"]\n",
    "\n",
    "main_subreddits = [\n",
    "    \"politics\",\n",
    "    \"worldnews\",\n",
    "    \"The_Donald\",\n",
    "    \"news\",\n",
    "    \"TheColorIsBlue\",\n",
    "    \"TheColorIsRed\",\n",
    "    \"willis7737_news\",\n",
    "    \"news_etc\",\n",
    "    \"AskReddit\",\n",
    "    \"canada\",\n",
    "    \"EnoughTrumpSpam\",\n",
    "    \"NoFilterNews\",\n",
    "    \"BreakingNews24hr\",\n",
    "    \"conspiracy\",\n",
    "    \"todayilearned\",\n",
    "    \"thenewsrightnow\",\n",
    "    \"europe\",\n",
    "    \"ReddLineNews\",\n",
    "    \"hillaryclinton\",\n",
    "    \"nottheonion\"]\n",
    "\n",
    "combined_subs = list(set(main_subreddits).union(set(alt_subreddits)))"
   ]
  },
  {
   "cell_type": "code",
   "execution_count": 6,
   "metadata": {},
   "outputs": [],
   "source": [
    "def read_files(session, paths):\n",
    "    return session.read.format('json').load(paths)"
   ]
  },
  {
   "cell_type": "code",
   "execution_count": 7,
   "metadata": {},
   "outputs": [],
   "source": [
    "def filter_subreddits(df, subreddits):\n",
    "    return df[['body', 'subreddit', \"id\"]].filter(df.subreddit.isin(subreddits))"
   ]
  },
  {
   "cell_type": "code",
   "execution_count": 8,
   "metadata": {},
   "outputs": [],
   "source": [
    "#Check total number of posts in each subreddit\n",
    "def calc_total_posts_for_subreddits(df):\n",
    "    return df2.groupBy(\"subreddit\").count().sort(\"count\", ascending=False)"
   ]
  },
  {
   "cell_type": "code",
   "execution_count": 9,
   "metadata": {},
   "outputs": [],
   "source": [
    "#Reduce the body to only contain profanities, then \"explode\" each word to a new row\n",
    "def split_words_to_new_rows(df):\n",
    "    ##Clean the words and filter them out. All words not in the list is removed, and \"!ret12arded.\" = \"retarded\"\n",
    "    #def clean_word(words: List) -> List:\n",
    "    #    cleaned_words = []\n",
    "    #    for word in words:\n",
    "    #        word = ''.join(e.lower() for e in word if e.isalpha())\n",
    "    #        if reverse_profanity_dict.get(word, None):\n",
    "    #            cleaned_words.append(word)\n",
    "    #    return cleaned_words\n",
    "    \n",
    "    \n",
    "    def clean_word(text):\n",
    "        pattern = re.compile('[^a-zA-Z]+')\n",
    "        cleaned_words = []\n",
    "        for word in pattern.sub(' ', text).lower().split():\n",
    "            if word in reverse_profanity_dict:\n",
    "                cleaned_words.append(word)\n",
    "        return cleaned_words\n",
    "    \n",
    "    udf_clean_word = F.udf(clean_word, ArrayType(StringType()))\n",
    "    \n",
    "    return df.withColumn('word', F.explode(udf_clean_word(df['body']))).select([\"subreddit\", \"word\",\"id\"])"
   ]
  },
  {
   "cell_type": "code",
   "execution_count": 10,
   "metadata": {},
   "outputs": [],
   "source": [
    "#Total number of use for each profanity within each subreddit\n",
    "#df4 = df3.groupBy([\"subreddit\", \"word\"]).count().sort(\"count\", ascending=False).cache()\n",
    "#df4.show(n=200)"
   ]
  },
  {
   "cell_type": "code",
   "execution_count": 11,
   "metadata": {},
   "outputs": [
    {
     "data": {
      "text/plain": [
       "'df5 = df4.withColumn(\"category\", udf_word_to_category(df3[\"word\"])).select([\"subreddit\", \"category\", \"count\"])\\ndf6 = df5.groupBy([\"subreddit\", \"category\"]).agg(F.sum(\"count\").alias(\"count\")).sort([\"subreddit\", \"count\"])\\ndf6.count()'"
      ]
     },
     "execution_count": 11,
     "metadata": {},
     "output_type": "execute_result"
    }
   ],
   "source": [
    "#Number of WORDS from each category, grouped by subreddit\n",
    "'''df5 = df4.withColumn(\"category\", udf_word_to_category(df3[\"word\"])).select([\"subreddit\", \"category\", \"count\"])\n",
    "df6 = df5.groupBy([\"subreddit\", \"category\"]).agg(F.sum(\"count\").alias(\"count\")).sort([\"subreddit\", \"count\"])\n",
    "df6.count()'''"
   ]
  },
  {
   "cell_type": "code",
   "execution_count": 12,
   "metadata": {},
   "outputs": [],
   "source": [
    "#Number of INDIVIDUAL POSTS containing profanity (by category), grouped by subreddit. \n",
    "#One post can count to many categories, but only once per category\n",
    "def calc_individual_posts_containing_profanities(df):\n",
    "    def word_to_category(w: str) -> str:\n",
    "        return reverse_profanity_dict[w]\n",
    "\n",
    "    udf_word_to_category = F.udf(word_to_category, StringType())\n",
    "    df2 = df.withColumn(\"category\", udf_word_to_category(df[\"word\"])).select([\"subreddit\", \"category\", \"id\"]).dropDuplicates([\"id\", \"category\"])\n",
    "    \n",
    "    return df2.groupBy([\"subreddit\", \"category\"])\\\n",
    "        .count()\\\n",
    "        .sort([\"subreddit\", \"count\"])"
   ]
  },
  {
   "cell_type": "code",
   "execution_count": 13,
   "metadata": {},
   "outputs": [
    {
     "name": "stdout",
     "output_type": "stream",
     "text": [
      "Reading files...\n",
      "Files read!\n",
      "Filtering subreddits...\n",
      "Calculating number of posts in each subreddit...\n",
      "Exploding profanities to separate rows...\n",
      "Calculate frequency of profanity categories...\n",
      "Collecting...\n",
      "Execution time: 259.18079924583435s\n",
      "Reading files...\n",
      "Files read!\n",
      "Filtering subreddits...\n",
      "Calculating number of posts in each subreddit...\n",
      "Exploding profanities to separate rows...\n",
      "Calculate frequency of profanity categories...\n",
      "Collecting...\n",
      "Execution time: 149.635737657547s\n",
      "Reading files...\n",
      "Files read!\n",
      "Filtering subreddits...\n",
      "Calculating number of posts in each subreddit...\n",
      "Exploding profanities to separate rows...\n",
      "Calculate frequency of profanity categories...\n",
      "Collecting...\n",
      "Execution time: 137.0675220489502s\n",
      "-------------------\n"
     ]
    },
    {
     "data": {
      "text/html": [
       "<div>\n",
       "<style scoped>\n",
       "    .dataframe tbody tr th:only-of-type {\n",
       "        vertical-align: middle;\n",
       "    }\n",
       "\n",
       "    .dataframe tbody tr th {\n",
       "        vertical-align: top;\n",
       "    }\n",
       "\n",
       "    .dataframe thead th {\n",
       "        text-align: right;\n",
       "    }\n",
       "</style>\n",
       "<table border=\"1\" class=\"dataframe\">\n",
       "  <thead>\n",
       "    <tr style=\"text-align: right;\">\n",
       "      <th></th>\n",
       "      <th>cores</th>\n",
       "      <th>execution_time (s)</th>\n",
       "      <th>read_time (s)</th>\n",
       "      <th>total_time (s)</th>\n",
       "    </tr>\n",
       "  </thead>\n",
       "  <tbody>\n",
       "    <tr>\n",
       "      <th>0</th>\n",
       "      <td>2</td>\n",
       "      <td>259.180799</td>\n",
       "      <td>496.155630</td>\n",
       "      <td>755.336429</td>\n",
       "    </tr>\n",
       "    <tr>\n",
       "      <th>1</th>\n",
       "      <td>4</td>\n",
       "      <td>149.635738</td>\n",
       "      <td>255.618161</td>\n",
       "      <td>405.253899</td>\n",
       "    </tr>\n",
       "    <tr>\n",
       "      <th>2</th>\n",
       "      <td>8</td>\n",
       "      <td>137.067522</td>\n",
       "      <td>194.726670</td>\n",
       "      <td>331.794192</td>\n",
       "    </tr>\n",
       "  </tbody>\n",
       "</table>\n",
       "</div>"
      ],
      "text/plain": [
       "   cores  execution_time (s)  read_time (s)  total_time (s)\n",
       "0      2          259.180799     496.155630      755.336429\n",
       "1      4          149.635738     255.618161      405.253899\n",
       "2      8          137.067522     194.726670      331.794192"
      ]
     },
     "execution_count": 13,
     "metadata": {},
     "output_type": "execute_result"
    }
   ],
   "source": [
    "#Strong scaling\n",
    "num_of_cores = [2, 4, 8]\n",
    "results_strong = []\n",
    "\n",
    "for cores in num_of_cores:\n",
    "    #Build Session\n",
    "    ss = build_session(1, cores)\n",
    "    #read files\n",
    "    print(\"Reading files...\")\n",
    "    read_start = time.time()\n",
    "    df = read_files(ss, 'hdfs://master:9000/experiment/RC_2011-08.bz2')\n",
    "    read_time = time.time() - read_start\n",
    "    print(\"Files read!\")\n",
    "    \n",
    "    start_time = time.time()\n",
    "    \n",
    "    #filter on subreddits\n",
    "    print(\"Filtering subreddits...\")\n",
    "    df2 = filter_subreddits(df,combined_subs).cache()\n",
    "    \n",
    "    print(\"Calculating number of posts in each subreddit...\")\n",
    "    #Calc total number of posts in each subreddit\n",
    "    df_total_posts = calc_total_posts_for_subreddits(df2)\n",
    "    \n",
    "    print(\"Exploding profanities to separate rows...\")\n",
    "    #explode all profanities to separate rows\n",
    "    df3 = split_words_to_new_rows(df2)\n",
    "    \n",
    "    print(\"Calculate frequency of profanity categories...\")\n",
    "    #Number of INDIVIDUAL POSTS containing profanity (by category), grouped by subreddit. \n",
    "    #One post can count to many categories, but only once per category\n",
    "    df4 = calc_individual_posts_containing_profanities(df3)\n",
    "    \n",
    "    print(\"Collecting...\")\n",
    "    df4.collect()\n",
    "    #pd_df4 = df4.toPandas()\n",
    "    #pd_tot = df_total_posts.toPandas()\n",
    "    #pd_merged = pd_df4.merge(pd_tot, on=\"subreddit\")\n",
    "    #pd_merged[\"freq\"] = pd_merged[\"count_x\"]/pd_merged[\"count_y\"]\n",
    "    #sns.catplot(x = \"category\",       # x variable name\n",
    "    #        y = \"freq\",       # y variable name\n",
    "    #        hue = \"subreddit\",  # elements in each group variable name\n",
    "    #        data = pd_merged,     # dataframe to plot\n",
    "    #        kind = \"bar\")\n",
    "    execution_time = time.time() - start_time\n",
    "    print(f\"Execution time: {execution_time}s\")\n",
    "    results_strong.append((cores, execution_time, read_time, execution_time + read_time ))\n",
    "    ss.stop()\n",
    "df_results_strong = pd.DataFrame(data=results_strong, columns=[\"cores\", \"execution_time (s)\", \"read_time (s)\", \"total_time (s)\"])\n",
    "print(\"-------------------\")\n",
    "df_results_strong"
   ]
  },
  {
   "cell_type": "code",
   "execution_count": 35,
   "metadata": {},
   "outputs": [
    {
     "data": {
      "text/plain": [
       "<matplotlib.axes._subplots.AxesSubplot at 0x7f003c69eac8>"
      ]
     },
     "execution_count": 35,
     "metadata": {},
     "output_type": "execute_result"
    },
    {
     "data": {
      "image/png": "[encoded data removed]",
      "text/plain": [
       "<Figure size 842.4x595.44 with 1 Axes>"
      ]
     },
     "metadata": {},
     "output_type": "display_data"
    }
   ],
   "source": [
    "sns.set(rc={'figure.figsize':(11.7,8.27)})\n",
    "sns.lineplot(x=\"cores\", y=\"total_time (s)\", data=df_results_strong)"
   ]
  },
  {
   "cell_type": "code",
   "execution_count": 14,
   "metadata": {},
   "outputs": [
    {
     "name": "stdout",
     "output_type": "stream",
     "text": [
      "Reading files...\n",
      "Files read!\n",
      "Filtering subreddits...\n",
      "Calculating number of posts in each subreddit...\n",
      "Exploding profanities to separate rows...\n",
      "Calculate frequency of profanity categories...\n",
      "Collecting...\n",
      "Execution time: 134.943776845932s\n",
      "Reading files...\n",
      "Files read!\n",
      "Filtering subreddits...\n",
      "Calculating number of posts in each subreddit...\n",
      "Exploding profanities to separate rows...\n",
      "Calculate frequency of profanity categories...\n",
      "Collecting...\n",
      "Execution time: 193.31683588027954s\n",
      "-------------------\n"
     ]
    },
    {
     "data": {
      "text/html": [
       "<div>\n",
       "<style scoped>\n",
       "    .dataframe tbody tr th:only-of-type {\n",
       "        vertical-align: middle;\n",
       "    }\n",
       "\n",
       "    .dataframe tbody tr th {\n",
       "        vertical-align: top;\n",
       "    }\n",
       "\n",
       "    .dataframe thead th {\n",
       "        text-align: right;\n",
       "    }\n",
       "</style>\n",
       "<table border=\"1\" class=\"dataframe\">\n",
       "  <thead>\n",
       "    <tr style=\"text-align: right;\">\n",
       "      <th></th>\n",
       "      <th>cores</th>\n",
       "      <th>num_of_files (~1GB)</th>\n",
       "      <th>execution_time (s)</th>\n",
       "      <th>read_time (s)</th>\n",
       "      <th>total_time (s)</th>\n",
       "    </tr>\n",
       "  </thead>\n",
       "  <tbody>\n",
       "    <tr>\n",
       "      <th>0</th>\n",
       "      <td>4</td>\n",
       "      <td>1</td>\n",
       "      <td>134.943777</td>\n",
       "      <td>130.941846</td>\n",
       "      <td>265.885623</td>\n",
       "    </tr>\n",
       "    <tr>\n",
       "      <th>1</th>\n",
       "      <td>8</td>\n",
       "      <td>2</td>\n",
       "      <td>193.316836</td>\n",
       "      <td>181.848254</td>\n",
       "      <td>375.165090</td>\n",
       "    </tr>\n",
       "  </tbody>\n",
       "</table>\n",
       "</div>"
      ],
      "text/plain": [
       "   cores  num_of_files (~1GB)  execution_time (s)  read_time (s)  \\\n",
       "0      4                    1          134.943777     130.941846   \n",
       "1      8                    2          193.316836     181.848254   \n",
       "\n",
       "   total_time (s)  \n",
       "0      265.885623  \n",
       "1      375.165090  "
      ]
     },
     "execution_count": 14,
     "metadata": {},
     "output_type": "execute_result"
    }
   ],
   "source": [
    "#Weak Scaling\n",
    "num_of_cores = [2, 4, 8]\n",
    "files= ['hdfs://master:9000/experiment/RC_2011-08.bz2', \n",
    "        'hdfs://master:9000/experiment/RC_2011-09.bz2', \n",
    "        'hdfs://master:9000/experiment/RC_2012-09.bz2']\n",
    "results_weak = []\n",
    "\n",
    "for index, cores in enumerate(num_of_cores):\n",
    "    #Build Session\n",
    "    ss = build_session(1, cores)\n",
    "    #read files\n",
    "    print(\"Reading files...\")\n",
    "    read_start = time.time()\n",
    "    df = read_files(ss, files[0 : (index+1) ])\n",
    "    read_time = time.time() - read_start\n",
    "    print(\"Files read!\")\n",
    "    \n",
    "    \n",
    "    start_time = time.time()\n",
    "    \n",
    "    #filter on subreddits\n",
    "    print(\"Filtering subreddits...\")\n",
    "    df2 = filter_subreddits(df,combined_subs).cache()\n",
    "    \n",
    "    print(\"Calculating number of posts in each subreddit...\")\n",
    "    #Calc total number of posts in each subreddit\n",
    "    df_total_posts = calc_total_posts_for_subreddits(df2)\n",
    "    \n",
    "    print(\"Exploding profanities to separate rows...\")\n",
    "    #explode all profanities to separate rows\n",
    "    df3 = split_words_to_new_rows(df2)\n",
    "    \n",
    "    print(\"Calculate frequency of profanity categories...\")\n",
    "    #Number of INDIVIDUAL POSTS containing profanity (by category), grouped by subreddit. \n",
    "    #One post can count to many categories, but only once per category\n",
    "    df4 = calc_individual_posts_containing_profanities(df3)\n",
    "    \n",
    "    print(\"Collecting...\")\n",
    "    df4.collect()\n",
    "    #pd_df4 = df4.toPandas()\n",
    "    #pd_tot = df_total_posts.toPandas()\n",
    "    #pd_merged = pd_df4.merge(pd_tot, on=\"subreddit\")\n",
    "    #pd_merged[\"freq\"] = pd_merged[\"count_x\"]/pd_merged[\"count_y\"]\n",
    "    #sns.catplot(x = \"category\",       # x variable name\n",
    "    #        y = \"freq\",       # y variable name\n",
    "    #        hue = \"subreddit\",  # elements in each group variable name\n",
    "    #        data = pd_merged,     # dataframe to plot\n",
    "    #        kind = \"bar\")\n",
    "    execution_time = time.time() - start_time\n",
    "    print(f\"Execution time: {execution_time}s\")\n",
    "    results_weak.append((cores, index+1, execution_time, read_time, execution_time + read_time ))\n",
    "    ss.stop()\n",
    "df_results_weak = pd.DataFrame(data=results_weak, columns=[\"cores\", \"num_of_files (~1GB)\", \"execution_time (s)\", \"read_time (s)\", \"total_time (s)\"])\n",
    "print(\"-------------------\")\n",
    "df_results_weak"
   ]
  },
  {
   "cell_type": "code",
   "execution_count": 36,
   "metadata": {},
   "outputs": [
    {
     "data": {
      "text/plain": [
       "<matplotlib.axes._subplots.AxesSubplot at 0x7f003c71d908>"
      ]
     },
     "execution_count": 36,
     "metadata": {},
     "output_type": "execute_result"
    },
    {
     "data": {
      "image/png": "[encoded data removed]",
      "text/plain": [
       "<Figure size 842.4x595.44 with 1 Axes>"
      ]
     },
     "metadata": {},
     "output_type": "display_data"
    }
   ],
   "source": [
    "sns.lineplot(x=\"cores\", y=\"total_time (s)\", data=df_results_weak)"
   ]
  },
  {
   "cell_type": "code",
   "execution_count": 15,
   "metadata": {},
   "outputs": [
    {
     "name": "stdout",
     "output_type": "stream",
     "text": [
      "Reading files...\n",
      "Files read!\n",
      "Filtering subreddits...\n",
      "Calculating number of posts in each subreddit...\n",
      "Exploding profanities to separate rows...\n",
      "Calculate frequency of profanity categories...\n",
      "Collecting...\n"
     ]
    },
    {
     "data": {
      "text/plain": [
       "<seaborn.axisgrid.FacetGrid at 0x7f00402978d0>"
      ]
     },
     "execution_count": 15,
     "metadata": {},
     "output_type": "execute_result"
    },
    {
     "data": {
      "image/png": "[encoded data removed]",
      "text/plain": [
       "<Figure size 465.125x360 with 1 Axes>"
      ]
     },
     "metadata": {},
     "output_type": "display_data"
    }
   ],
   "source": [
    "#Analysis w/ bar plot\n",
    "\n",
    "files= 'hdfs://master:9000/experiment/*.bz2'\n",
    "\n",
    "#Build Session\n",
    "ss = build_session(1, 8)\n",
    "#read files\n",
    "print(\"Reading files...\")\n",
    "read_start = time.time()\n",
    "df = read_files(ss, files)\n",
    "print(\"Files read!\")\n",
    "\n",
    "#filter on subreddits\n",
    "print(\"Filtering subreddits...\")\n",
    "df2 = filter_subreddits(df,combined_subs).cache()\n",
    "\n",
    "print(\"Calculating number of posts in each subreddit...\")\n",
    "#Calc total number of posts in each subreddit\n",
    "df_total_posts = calc_total_posts_for_subreddits(df2)\n",
    "\n",
    "print(\"Exploding profanities to separate rows...\")\n",
    "#explode all profanities to separate rows\n",
    "df3 = split_words_to_new_rows(df2)\n",
    "\n",
    "print(\"Calculate frequency of profanity categories...\")\n",
    "#Number of INDIVIDUAL POSTS containing profanity (by category), grouped by subreddit. \n",
    "#One post can count to many categories, but only once per category\n",
    "df4 = calc_individual_posts_containing_profanities(df3)\n",
    "\n",
    "print(\"Collecting...\")\n",
    "pd_df4 = df4.toPandas()\n",
    "pd_tot = df_total_posts.toPandas()\n",
    "pd_merged = pd_df4.merge(pd_tot, on=\"subreddit\")\n",
    "pd_merged[\"freq\"] = pd_merged[\"count_x\"]/pd_merged[\"count_y\"]\n"
   ]
  },
  {
   "cell_type": "code",
   "execution_count": 32,
   "metadata": {},
   "outputs": [
    {
     "data": {
      "text/plain": [
       "<seaborn.axisgrid.FacetGrid at 0x7f003c9a3da0>"
      ]
     },
     "execution_count": 32,
     "metadata": {},
     "output_type": "execute_result"
    },
    {
     "data": {
      "image/png": "[encoded data removed]",
      "text/plain": [
       "<Figure size 980.1x432 with 1 Axes>"
      ]
     },
     "metadata": {},
     "output_type": "display_data"
    }
   ],
   "source": [
    "sns.catplot(\n",
    "        x = \"category\",       # x variable name\n",
    "        y = \"freq\",       # y variable name\n",
    "        hue = \"subreddit\",  # elements in each group variable name\n",
    "        data = pd_merged,     # dataframe to plot\n",
    "        kind = \"bar\",\n",
    "        palette = \"colorblind\",\n",
    "        height = 6,\n",
    "        aspect = 2)"
   ]
  },
  {
   "cell_type": "code",
   "execution_count": 33,
   "metadata": {},
   "outputs": [],
   "source": [
    "ss.stop()"
   ]
  },
  {
   "cell_type": "code",
   "execution_count": null,
   "metadata": {},
   "outputs": [],
   "source": []
  },
  {
   "cell_type": "code",
   "execution_count": null,
   "metadata": {},
   "outputs": [],
   "source": []
  }
 ],
 "metadata": {
  "kernelspec": {
   "display_name": "Python 3",
   "language": "python",
   "name": "python3"
  },
  "language_info": {
   "codemirror_mode": {
    "name": "ipython",
    "version": 3
   },
   "file_extension": ".py",
   "mimetype": "text/x-python",
   "name": "python",
   "nbconvert_exporter": "python",
   "pygments_lexer": "ipython3",
   "version": "3.6.9"
  }
 },
 "nbformat": 4,
 "nbformat_minor": 2
}
